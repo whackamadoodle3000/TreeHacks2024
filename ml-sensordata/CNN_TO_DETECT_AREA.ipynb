{
  "nbformat": 4,
  "nbformat_minor": 0,
  "metadata": {
    "colab": {
      "provenance": []
    },
    "kernelspec": {
      "name": "python3",
      "display_name": "Python 3"
    },
    "language_info": {
      "name": "python"
    }
  },
  "cells": [
    {
      "cell_type": "markdown",
      "source": [
        "Entering data"
      ],
      "metadata": {
        "id": "70-XFJMsqoYz"
      }
    },
    {
      "cell_type": "code",
      "source": [
        "import pandas as pd\n",
        "# Replace 'your_dataset.csv' with the path to your actual dataset file\n",
        "df = pd.read_csv('data.csv')\n",
        "# Assuming conditions are encoded as separate columns\n",
        "y_cervical = df['Cervical_Pressure']\n",
        "y_thoracic = df['Thoracic_Pressure']\n",
        "y_lumbar = df['Lumbar_Pressure']\n",
        "y_sacral = df['Sacral_Pressure']\n",
        "\n"
      ],
      "metadata": {
        "id": "TUhLEpSUqpm6"
      },
      "execution_count": 12,
      "outputs": []
    },
    {
      "cell_type": "markdown",
      "source": [
        "Preprocessing data"
      ],
      "metadata": {
        "id": "Pb4WOuBdrHzm"
      }
    },
    {
      "cell_type": "code",
      "source": [
        "# Example of encoding a categorical feature\n",
        "df = pd.get_dummies(df, columns=['Gender'])\n",
        "\n",
        "# Example of filling in missing values for a numerical feature\n",
        "df['Age'] = df['Age'].fillna(df['Age'].mean())\n",
        "\n",
        "# Example of dropping a column not needed for modeling\n",
        "df = df.drop(['Timestamp'], axis=1)\n"
      ],
      "metadata": {
        "id": "6ZNhRj40rPuT"
      },
      "execution_count": 13,
      "outputs": []
    },
    {
      "cell_type": "markdown",
      "source": [
        "Data Selection"
      ],
      "metadata": {
        "id": "XvoRTdqfrUTr"
      }
    },
    {
      "cell_type": "code",
      "source": [
        "# Assuming you've identified feature and target columns\n",
        "X = df.drop(['Cervical_Pressure', 'Thoracic_Pressure', 'Lumbar_Pressure', 'Sacral_Pressure'], axis=1)  # Features\n",
        "y = df[['Cervical_Pressure', 'Thoracic_Pressure', 'Lumbar_Pressure', 'Sacral_Pressure']]  # Targets\n"
      ],
      "metadata": {
        "id": "fbASUvMorWgU"
      },
      "execution_count": 16,
      "outputs": []
    },
    {
      "cell_type": "markdown",
      "source": [
        "Model"
      ],
      "metadata": {
        "id": "3HaEeW24rtu9"
      }
    },
    {
      "cell_type": "code",
      "source": [
        "from sklearn.model_selection import train_test_split\n",
        "\n",
        "X_train, X_test, y_train, y_test = train_test_split(X, y, test_size=0.2, random_state=42)\n"
      ],
      "metadata": {
        "id": "p8Ys8j6Vrufw"
      },
      "execution_count": 17,
      "outputs": []
    }
  ]
}